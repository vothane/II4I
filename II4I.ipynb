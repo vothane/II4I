{
  "nbformat": 4,
  "nbformat_minor": 0,
  "metadata": {
    "colab": {
      "name": "II4I.ipynb",
      "version": "0.3.2",
      "provenance": [],
      "collapsed_sections": [],
      "include_colab_link": true
    },
    "kernelspec": {
      "name": "python3",
      "display_name": "Python 3"
    },
    "accelerator": "TPU"
  },
  "cells": [
    {
      "cell_type": "markdown",
      "metadata": {
        "id": "view-in-github",
        "colab_type": "text"
      },
      "source": [
        "<a href=\"https://colab.research.google.com/github/vothane/II4I/blob/master/II4I.ipynb\" target=\"_parent\"><img src=\"https://colab.research.google.com/assets/colab-badge.svg\" alt=\"Open In Colab\"/></a>"
      ]
    },
    {
      "cell_type": "code",
      "metadata": {
        "id": "BoL8HoB8J13n",
        "colab_type": "code",
        "colab": {}
      },
      "source": [
        ""
      ],
      "execution_count": 0,
      "outputs": []
    },
    {
      "cell_type": "markdown",
      "metadata": {
        "id": "nK-Hm5YzM_Y2",
        "colab_type": "text"
      },
      "source": [
        "Lets go Bruins. All eyes on center.\n",
        "![alt text](https://https://media1.giphy.com/media/hJjTwuJjjsVgc/giphy.gif)"
      ]
    },
    {
      "cell_type": "markdown",
      "metadata": {
        "id": "ztdTbEQpNQrI",
        "colab_type": "text"
      },
      "source": [
        "![](https://media1.giphy.com/media/hJjTwuJjjsVgc/giphy.gif)"
      ]
    },
    {
      "cell_type": "markdown",
      "metadata": {
        "id": "F1jGb8cGMzMm",
        "colab_type": "text"
      },
      "source": [
        "![alt text](https://https://media1.giphy.com/media/hJjTwuJjjsVgc/giphy.gif)"
      ]
    },
    {
      "cell_type": "markdown",
      "metadata": {
        "id": "atmHlbxiMx6B",
        "colab_type": "text"
      },
      "source": [
        ""
      ]
    }
  ]
}